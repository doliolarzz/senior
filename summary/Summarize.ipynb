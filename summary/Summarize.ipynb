{
 "cells": [
  {
   "cell_type": "code",
   "execution_count": 1,
   "metadata": {},
   "outputs": [],
   "source": [
    "import sys, os, glob\n",
    "sys.path.insert(0, '../')\n",
    "import torch\n",
    "import numpy as np\n",
    "from global_config import global_config\n",
    "from conv_test import conv_test\n",
    "import pandas as pd\n",
    "from tqdm.notebook import tqdm\n",
    "%load_ext autoreload\n",
    "%autoreload 2"
   ]
  },
  {
   "cell_type": "code",
   "execution_count": 31,
   "metadata": {},
   "outputs": [
    {
     "data": {
      "application/vnd.jupyter.widget-view+json": {
       "model_id": "903fb32c218a4900bf5f62aa0d80b721",
       "version_major": 2,
       "version_minor": 0
      },
      "text/plain": [
       "HBox(children=(FloatProgress(value=0.0, max=1.0), HTML(value='')))"
      ]
     },
     "metadata": {},
     "output_type": "display_data"
    },
    {
     "name": "stdout",
     "output_type": "stream",
     "text": [
      "(18, 840, 630) (18, 840, 630)\n",
      "\n"
     ]
    },
    {
     "data": {
      "application/vnd.jupyter.widget-view+json": {
       "model_id": "e1a6a7a182fa495988388880f96debcd",
       "version_major": 2,
       "version_minor": 0
      },
      "text/plain": [
       "HBox(children=(FloatProgress(value=0.0, max=1.0), HTML(value='')))"
      ]
     },
     "metadata": {},
     "output_type": "display_data"
    },
    {
     "name": "stdout",
     "output_type": "stream",
     "text": [
      "(18, 840, 630) (18, 840, 630)\n",
      "\n"
     ]
    },
    {
     "data": {
      "application/vnd.jupyter.widget-view+json": {
       "model_id": "aea9ce5dbe2f4679b4b336fe9d8d889e",
       "version_major": 2,
       "version_minor": 0
      },
      "text/plain": [
       "HBox(children=(FloatProgress(value=0.0, max=1.0), HTML(value='')))"
      ]
     },
     "metadata": {},
     "output_type": "display_data"
    },
    {
     "name": "stdout",
     "output_type": "stream",
     "text": [
      "(18, 840, 630) (18, 840, 630)\n",
      "\n"
     ]
    }
   ],
   "source": [
    "start_pred_files = ['20190630_2000.bin', '20190908_1420.bin', '20191012_1030.bin']\n",
    "start_pred_crop = [[31, 37, 127, 142], [32, 39, 136, 143], [30, 45, 132, 147]]\n",
    "data = []\n",
    "cols = ['test_case', 'in_len', 'out_len', 'csi', 'csi_0', 'csi_1', 'csi_2', 'csi_3', 'multitask', 'rmse', 'rmse_rain', 'rmse_non_rain']\n",
    "for i, (sfile, scrop) in enumerate(zip(start_pred_files, start_pred_crop)):\n",
    "    for f in tqdm(glob.glob('/home/warit/senior/experiments/conv_logs/logs_*')):\n",
    "        model_path = f + '/model_f1_i5000.pth'\n",
    "        in_len, out_len, batch_size, multitask = f.split('/')[-1].split('_')[1:][:4]\n",
    "        [rmse, rmse_rain, rmse_non_rain], csi, csi_multi = \\\n",
    "            conv_test(model_path, sfile, i, int(in_len), int(out_len), int(batch_size), multitask, crop=scrop)\n",
    "        data.append([i, in_len, out_len, csi] + list(csi_multi) + [multitask, rmse, rmse_rain, rmse_non_rain])\n",
    "\n",
    "df = pd.DataFrame(data, columns=cols)"
   ]
  },
  {
   "cell_type": "code",
   "execution_count": 32,
   "metadata": {},
   "outputs": [],
   "source": [
    "x = df#[df['multitask']=='True']\n",
    "x = x.sort_values(['test_case', 'csi', 'in_len', 'out_len'], ascending=False)\n",
    "# x = x.sort_values('csi', ascending=False)"
   ]
  },
  {
   "cell_type": "code",
   "execution_count": 33,
   "metadata": {},
   "outputs": [
    {
     "data": {
      "text/html": [
       "<div>\n",
       "<style scoped>\n",
       "    .dataframe tbody tr th:only-of-type {\n",
       "        vertical-align: middle;\n",
       "    }\n",
       "\n",
       "    .dataframe tbody tr th {\n",
       "        vertical-align: top;\n",
       "    }\n",
       "\n",
       "    .dataframe thead th {\n",
       "        text-align: right;\n",
       "    }\n",
       "</style>\n",
       "<table border=\"1\" class=\"dataframe\">\n",
       "  <thead>\n",
       "    <tr style=\"text-align: right;\">\n",
       "      <th></th>\n",
       "      <th>test_case</th>\n",
       "      <th>in_len</th>\n",
       "      <th>out_len</th>\n",
       "      <th>csi</th>\n",
       "      <th>csi_0</th>\n",
       "      <th>csi_1</th>\n",
       "      <th>csi_2</th>\n",
       "      <th>csi_3</th>\n",
       "      <th>multitask</th>\n",
       "      <th>rmse</th>\n",
       "      <th>rmse_rain</th>\n",
       "      <th>rmse_non_rain</th>\n",
       "    </tr>\n",
       "  </thead>\n",
       "  <tbody>\n",
       "    <tr>\n",
       "      <th>2</th>\n",
       "      <td>2</td>\n",
       "      <td>5</td>\n",
       "      <td>1</td>\n",
       "      <td>26.545210</td>\n",
       "      <td>93.308894</td>\n",
       "      <td>21.573117</td>\n",
       "      <td>22.455574</td>\n",
       "      <td>0.309015</td>\n",
       "      <td>True</td>\n",
       "      <td>1.906200</td>\n",
       "      <td>8.263252</td>\n",
       "      <td>0.110124</td>\n",
       "    </tr>\n",
       "    <tr>\n",
       "      <th>1</th>\n",
       "      <td>1</td>\n",
       "      <td>5</td>\n",
       "      <td>1</td>\n",
       "      <td>4.770914</td>\n",
       "      <td>93.798188</td>\n",
       "      <td>3.798607</td>\n",
       "      <td>2.626310</td>\n",
       "      <td>0.000003</td>\n",
       "      <td>True</td>\n",
       "      <td>1.158665</td>\n",
       "      <td>9.436333</td>\n",
       "      <td>0.106563</td>\n",
       "    </tr>\n",
       "    <tr>\n",
       "      <th>0</th>\n",
       "      <td>0</td>\n",
       "      <td>5</td>\n",
       "      <td>1</td>\n",
       "      <td>9.939572</td>\n",
       "      <td>92.398461</td>\n",
       "      <td>8.065821</td>\n",
       "      <td>8.280857</td>\n",
       "      <td>0.091050</td>\n",
       "      <td>True</td>\n",
       "      <td>1.266002</td>\n",
       "      <td>7.382177</td>\n",
       "      <td>0.090767</td>\n",
       "    </tr>\n",
       "  </tbody>\n",
       "</table>\n",
       "</div>"
      ],
      "text/plain": [
       "   test_case in_len out_len        csi      csi_0      csi_1      csi_2  \\\n",
       "2          2      5       1  26.545210  93.308894  21.573117  22.455574   \n",
       "1          1      5       1   4.770914  93.798188   3.798607   2.626310   \n",
       "0          0      5       1   9.939572  92.398461   8.065821   8.280857   \n",
       "\n",
       "      csi_3 multitask      rmse  rmse_rain  rmse_non_rain  \n",
       "2  0.309015      True  1.906200   8.263252       0.110124  \n",
       "1  0.000003      True  1.158665   9.436333       0.106563  \n",
       "0  0.091050      True  1.266002   7.382177       0.090767  "
      ]
     },
     "execution_count": 33,
     "metadata": {},
     "output_type": "execute_result"
    }
   ],
   "source": [
    "x"
   ]
  },
  {
   "cell_type": "code",
   "execution_count": null,
   "metadata": {},
   "outputs": [],
   "source": []
  }
 ],
 "metadata": {
  "kernelspec": {
   "display_name": "Python 3",
   "language": "python",
   "name": "python3"
  },
  "language_info": {
   "codemirror_mode": {
    "name": "ipython",
    "version": 3
   },
   "file_extension": ".py",
   "mimetype": "text/x-python",
   "name": "python",
   "nbconvert_exporter": "python",
   "pygments_lexer": "ipython3",
   "version": "3.7.5"
  }
 },
 "nbformat": 4,
 "nbformat_minor": 2
}
