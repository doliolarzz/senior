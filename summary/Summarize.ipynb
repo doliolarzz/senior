{
 "cells": [
  {
   "cell_type": "code",
   "execution_count": 1,
   "metadata": {},
   "outputs": [],
   "source": [
    "import sys, os, glob\n",
    "sys.path.insert(0, '../')\n",
    "import torch\n",
    "import numpy as np\n",
    "from global_config import global_config\n",
    "from conv_test import conv_test\n",
    "import pandas as pd\n",
    "from tqdm.notebook import tqdm"
   ]
  },
  {
   "cell_type": "code",
   "execution_count": null,
   "metadata": {},
   "outputs": [
    {
     "data": {
      "application/vnd.jupyter.widget-view+json": {
       "model_id": "3d760d1c86384cf3aa179e3836c91149",
       "version_major": 2,
       "version_minor": 0
      },
      "text/plain": [
       "HBox(children=(FloatProgress(value=0.0, max=8.0), HTML(value='')))"
      ]
     },
     "metadata": {},
     "output_type": "display_data"
    }
   ],
   "source": [
    "start_pred_files = ['20190630_2000.bin']\n",
    "start_pred_crop = [[31, 37, 127, 142]]\n",
    "data = []\n",
    "cols = ['test_case', 'in_len', 'out_len', 'csi', 'csi_0', 'csi_1', 'csi_2', 'csi_3', 'multitask', 'rmse', 'rmse_rain', 'rmse_non_rain']\n",
    "for i, (sfile, scrop) in enumerate(zip(start_pred_files, start_pred_crop)):\n",
    "    for f in tqdm(glob.glob('/home/warit/senior/experiments/conv_logs/logs_*')):\n",
    "        model_path = f + '/model_f1_i5000.pth'\n",
    "        in_len, out_len, batch_size, multitask = f.split('/')[-1].split('_')[1:][:4]\n",
    "        [rmse, rmse_rain, rmse_non_rain], csi, csi_multi = \\\n",
    "            conv_test(model_path, sfile, i, int(in_len), int(out_len), int(batch_size), multitask, crop=scrop)\n",
    "        data.append([i, in_len, out_len, csi] + list(csi_multi) + [multitask, rmse, rmse_rain, rmse_non_rain])\n",
    "\n",
    "df = pd.DataFrame(data, columns=cols)"
   ]
  },
  {
   "cell_type": "code",
   "execution_count": null,
   "metadata": {},
   "outputs": [],
   "source": [
    "df.sort_values('csi', ascending=False)"
   ]
  },
  {
   "cell_type": "code",
   "execution_count": null,
   "metadata": {},
   "outputs": [],
   "source": []
  }
 ],
 "metadata": {
  "kernelspec": {
   "display_name": "Python 3",
   "language": "python",
   "name": "python3"
  },
  "language_info": {
   "codemirror_mode": {
    "name": "ipython",
    "version": 3
   },
   "file_extension": ".py",
   "mimetype": "text/x-python",
   "name": "python",
   "nbconvert_exporter": "python",
   "pygments_lexer": "ipython3",
   "version": "3.7.5"
  }
 },
 "nbformat": 4,
 "nbformat_minor": 2
}
