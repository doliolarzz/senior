{
 "cells": [
  {
   "cell_type": "code",
   "execution_count": 30,
   "metadata": {},
   "outputs": [],
   "source": [
    "import glob\n",
    "import cv2\n",
    "import numpy as np\n",
    "from PIL import Image\n",
    "from tqdm.notebook import tqdm\n",
    "import matplotlib.pyplot as plt"
   ]
  },
  {
   "cell_type": "markdown",
   "metadata": {},
   "source": [
    "# Create NPZ Dataset"
   ]
  },
  {
   "cell_type": "code",
   "execution_count": 4,
   "metadata": {},
   "outputs": [],
   "source": [
    "def get_crop_boundary_idx(height, width, lat_min, lat_max, lon_min, lon_max, crop_lat1, crop_lat2, crop_lon1, crop_lon2):\n",
    "    if (crop_lat1 < lat_min) | (crop_lat2 > lat_max) | (crop_lon1 < lon_min) | (crop_lon2> lon_max) :\n",
    "        print(\"Crop boundary is out of bound.\")\n",
    "        return\n",
    "    \n",
    "    lat_min_idx = round((crop_lat1 - lat_min)/(lat_max - lat_min)*height) # min row idx, num rows = height\n",
    "    lat_max_idx = round((crop_lat2 - lat_min)/(lat_max - lat_min)*height) # max row idx, num rows = height\n",
    "    lon_min_idx = round((crop_lon1 - lon_min)/(lon_max - lon_min)*width)  # min col idx, num cols = height\n",
    "    lon_max_idx = round((crop_lon2 - lon_min)/(lon_max - lon_min)*width)  # max col idx, num cols = height    \n",
    "    return height - lat_max_idx, height - lat_min_idx, lon_min_idx, lon_max_idx"
   ]
  },
  {
   "cell_type": "code",
   "execution_count": 5,
   "metadata": {},
   "outputs": [],
   "source": [
    "height, width = (3360, 2560)\n",
    "lat_min = 20.005\n",
    "lat_max = 47.9958\n",
    "lon_min = 118.006\n",
    "lon_max = 149.994\n",
    "crop_lat1 = 31\n",
    "crop_lat2 = 37\n",
    "crop_lon1 = 127\n",
    "crop_lon2 = 142\n",
    "h1, h2, w1, w2 = get_crop_boundary_idx(height, width, lat_min, lat_max, lon_min, lon_max, crop_lat1, crop_lat2, crop_lon1, crop_lon2)\n",
    "\n",
    "files = sorted([file for file in glob.glob('/media/doliolarzz/Ubuntu_data/wni_data/201807/*/*.bin')])\n",
    "\n",
    "raw_data = np.zeros((len(files), h2 - h1 + 1, w2 - w1 + 1), dtype=np.float32)\n",
    "for i, file in enumerate(files):\n",
    "    data = np.fromfile(file, dtype=np.float32).reshape((height, width))\n",
    "    raw_data[i] = data[h1 : h2 + 1, w1 : w2 + 1]\n",
    "#     raw_data[i] = cv2.resize(data, size, cv2.INTER_LINEAR)\n",
    "\n",
    "np.savez_compressed('./data.npz', data=raw_data, original_coor=(crop_lat1,crop_lat2,crop_lon1,crop_lon2))"
   ]
  },
  {
   "cell_type": "code",
   "execution_count": 5,
   "metadata": {},
   "outputs": [],
   "source": [
    "height, width = (3360, 2560)\n",
    "data = np.fromfile('a.bin', dtype=np.float32).reshape((height, width))"
   ]
  },
  {
   "cell_type": "code",
   "execution_count": 7,
   "metadata": {},
   "outputs": [
    {
     "data": {
      "text/plain": [
       "array([  0.  ,   0.2 ,   0.3 ,   0.4 ,   0.5 ,   0.6 ,   0.7 ,   0.8 ,\n",
       "         0.9 ,   1.  ,   1.1 ,   1.2 ,   1.3 ,   1.4 ,   1.5 ,   1.6 ,\n",
       "         1.7 ,   1.8 ,   1.9 ,   2.  ,   2.25,   2.5 ,   2.75,   3.  ,\n",
       "         3.25,   3.5 ,   3.75,   4.  ,   4.25,   4.5 ,   4.75,   5.  ,\n",
       "         5.5 ,   6.  ,   6.5 ,   7.  ,   7.5 ,   8.  ,   8.5 ,   9.  ,\n",
       "         9.5 ,  10.  ,  11.  ,  12.  ,  13.  ,  14.  ,  15.  ,  16.  ,\n",
       "        17.  ,  18.  ,  19.  ,  20.  ,  21.  ,  22.  ,  23.  ,  24.  ,\n",
       "        25.  ,  26.  ,  27.  ,  28.  ,  29.  ,  30.  ,  31.  ,  32.  ,\n",
       "        33.  ,  34.  ,  35.  ,  36.  ,  37.  ,  38.  ,  39.  ,  40.  ,\n",
       "        41.  ,  42.  ,  43.  ,  44.  ,  45.  ,  46.  ,  47.  ,  48.  ,\n",
       "        49.  ,  50.  ,  51.  ,  52.  ,  53.  ,  54.  ,  55.  ,  56.  ,\n",
       "        57.  ,  58.  ,  59.  ,  60.  ,  61.  ,  62.  ,  63.  ,  65.  ,\n",
       "        66.  ,  68.  ,  70.  ,  71.  ,  72.  ,  73.  ,  74.  ,  75.  ,\n",
       "        76.  ,  77.  ,  84.  ,  88.  ,  89.  ,  92.  , 105.  , 119.  ,\n",
       "       121.  , 123.  , 149.  ], dtype=float32)"
      ]
     },
     "execution_count": 7,
     "metadata": {},
     "output_type": "execute_result"
    }
   ],
   "source": [
    "np.unique(data)"
   ]
  },
  {
   "cell_type": "markdown",
   "metadata": {},
   "source": [
    "# Zip only important files"
   ]
  },
  {
   "cell_type": "code",
   "execution_count": 12,
   "metadata": {},
   "outputs": [],
   "source": [
    "from tqdm.notebook import tqdm\n",
    "import zipfile"
   ]
  },
  {
   "cell_type": "code",
   "execution_count": 14,
   "metadata": {},
   "outputs": [
    {
     "data": {
      "application/vnd.jupyter.widget-view+json": {
       "model_id": "8ef138d654454f9ab6f3b3872d3ecc84",
       "version_major": 2,
       "version_minor": 0
      },
      "text/plain": [
       "HBox(children=(IntProgress(value=0, max=4464), HTML(value='')))"
      ]
     },
     "metadata": {},
     "output_type": "display_data"
    },
    {
     "name": "stdout",
     "output_type": "stream",
     "text": [
      "\n"
     ]
    }
   ],
   "source": [
    "zipf = zipfile.ZipFile('./Python.zip', 'w', zipfile.ZIP_DEFLATED)\n",
    "files = sorted([file for file in glob.glob('/media/doliolarzz/Ubuntu_data/wni_data/201807/*/*.bin')])\n",
    "for file in tqdm(files):\n",
    "    zipf.write(file, os.path.join('201807', os.path.basename(file)))\n",
    "zipf.close()"
   ]
  },
  {
   "cell_type": "markdown",
   "metadata": {},
   "source": [
    "# Plot GIF"
   ]
  },
  {
   "cell_type": "code",
   "execution_count": 32,
   "metadata": {},
   "outputs": [],
   "source": [
    "def gray_shade(im, lvl=100):\n",
    "    imres = np.zeros_like(im)\n",
    "    imres[im > 0.2] = 40\n",
    "    imres[im > 15] = 80\n",
    "    imres[im > 20] = 120\n",
    "    imres[im > 30] = 160\n",
    "    imres[im > 50] = 200\n",
    "    imres[im > 80] = 255\n",
    "    return imres\n",
    "\n",
    "\n",
    "def rainfall_shade(im, mode='RGB'):\n",
    "    rgb = cv2.cvtColor(im.astype(np.uint8), cv2.COLOR_GRAY2RGB)\n",
    "\n",
    "    indices = np.where(im <= 0.2)\n",
    "    rgb[indices[0], indices[1], :] = [0, 0, 0]\n",
    "\n",
    "    indices = np.where(im > 0.2)\n",
    "    rgb[indices[0], indices[1], :] = [242, 242, 254]\n",
    "\n",
    "    indices = np.where(im > 1)\n",
    "    rgb[indices[0], indices[1], :] = [170, 209, 251]\n",
    "\n",
    "    indices = np.where(im > 5)\n",
    "    rgb[indices[0], indices[1], :] = [66, 140, 247]\n",
    "\n",
    "    indices = np.where(im > 10)\n",
    "    rgb[indices[0], indices[1], :] = [15, 70, 245]\n",
    "\n",
    "    indices = np.where(im > 20)\n",
    "    rgb[indices[0], indices[1], :] = [250, 244, 81]\n",
    "\n",
    "    indices = np.where(im > 30)\n",
    "    rgb[indices[0], indices[1], :] = [241, 157, 56]\n",
    "\n",
    "    indices = np.where(im > 50)\n",
    "    rgb[indices[0], indices[1], :] = [235, 65, 37]\n",
    "\n",
    "    indices = np.where(im > 60)\n",
    "    rgb[indices[0], indices[1], :] = [159, 33, 99]\n",
    "    if mode=='BGR':\n",
    "        rgb = cv2.cvtColor(rgb, cv2.COLOR_RGB2BGR)\n",
    "    return rgb\n"
   ]
  },
  {
   "cell_type": "code",
   "execution_count": 38,
   "metadata": {},
   "outputs": [],
   "source": [
    "def make_gif(single_seq, fname='test.gif'):\n",
    "    img_seq = [Image.fromarray(img.astype('uint8'), 'RGB') for img in single_seq]\n",
    "    img = img_seq[0]\n",
    "    img.save(fname, save_all=True, append_images=img_seq[1:], loop=True)"
   ]
  },
  {
   "cell_type": "code",
   "execution_count": 37,
   "metadata": {},
   "outputs": [
    {
     "data": {
      "application/vnd.jupyter.widget-view+json": {
       "model_id": "d9c1792518f5442a8695ef7e42cdac29",
       "version_major": 2,
       "version_minor": 0
      },
      "text/plain": [
       "HBox(children=(IntProgress(value=0), HTML(value='')))"
      ]
     },
     "metadata": {},
     "output_type": "display_data"
    },
    {
     "name": "stdout",
     "output_type": "stream",
     "text": [
      "\n"
     ]
    }
   ],
   "source": [
    "start = 1008\n",
    "files = sorted([file for file in glob.glob('/media/doliolarzz/Ubuntu_data/wni_data/201807/*/*.bin')])[start:start+100]\n",
    "imgs = []\n",
    "for i, file in enumerate(tqdm(files)):\n",
    "    data = np.fromfile(file, dtype=np.float32).reshape((height, width))\n",
    "    c_img = rainfall_shade(data / data.max() * 255)\n",
    "    c_img = cv2.resize(c_img, (int(height*30/100), int(width*30/100)), interpolation = cv2.INTER_AREA)\n",
    "    imgs.append(c_img)\n",
    "make_gif(imgs)"
   ]
  },
  {
   "cell_type": "code",
   "execution_count": null,
   "metadata": {},
   "outputs": [],
   "source": []
  },
  {
   "cell_type": "code",
   "execution_count": 14,
   "metadata": {},
   "outputs": [
    {
     "data": {
      "text/plain": [
       "(1320, 2040, 720, 1920)"
      ]
     },
     "execution_count": 14,
     "metadata": {},
     "output_type": "execute_result"
    }
   ],
   "source": [
    "get_crop_boundary_idx(3360, 2560, 20.005, 47.9958, 118.006, 149.994, 31, 37, 127, 142)"
   ]
  },
  {
   "cell_type": "code",
   "execution_count": null,
   "metadata": {},
   "outputs": [],
   "source": [
    "721 / 1201"
   ]
  },
  {
   "cell_type": "code",
   "execution_count": 16,
   "metadata": {},
   "outputs": [
    {
     "data": {
      "text/plain": [
       "array([[1005,  944],\n",
       "       [1554, 2520]])"
      ]
     },
     "execution_count": 16,
     "metadata": {},
     "output_type": "execute_result"
    }
   ],
   "source": [
    "x"
   ]
  },
  {
   "cell_type": "code",
   "execution_count": 59,
   "metadata": {},
   "outputs": [],
   "source": [
    "\n",
    "x = geo_to_pixel(target_bound)"
   ]
  },
  {
   "cell_type": "code",
   "execution_count": 69,
   "metadata": {},
   "outputs": [],
   "source": [
    "import glob\n",
    "files = sorted([file for file in glob.glob('/media/doliolarzz/Ubuntu_data/wni_data/201807/*/*.bin')])\n"
   ]
  },
  {
   "cell_type": "code",
   "execution_count": 71,
   "metadata": {},
   "outputs": [
    {
     "data": {
      "text/plain": [
       "4464"
      ]
     },
     "execution_count": 71,
     "metadata": {},
     "output_type": "execute_result"
    }
   ],
   "source": [
    "len(files)"
   ]
  },
  {
   "cell_type": "code",
   "execution_count": 2,
   "metadata": {},
   "outputs": [],
   "source": [
    "import glob\n",
    "import cv2\n",
    "import numpy as np"
   ]
  },
  {
   "cell_type": "code",
   "execution_count": null,
   "metadata": {},
   "outputs": [],
   "source": [
    "cv2."
   ]
  },
  {
   "cell_type": "code",
   "execution_count": null,
   "metadata": {},
   "outputs": [],
   "source": [
    "h, w = (3360, 2560)\n",
    "img_bound = np.array([[20.005, 118.006], [47.9958, 149.994]])\n",
    "img_diff = img_bound[1] - img_bound[0]\n",
    "target_bound = np.array([[32.64771151178918, 130.93422148209825], [35.302357836338416, 138.65278934221482]])\n",
    "def geo_to_pixel(data):\n",
    "    data[:, 0] = (data[:, 0] - img_bound[0, 0]) * w / img_diff[0]\n",
    "    data[:, 1] = (data[:, 1] - img_bound[0, 1]) * h / img_diff[1]\n",
    "    return data\n",
    "x = geo_to_pixel(target_bound)"
   ]
  },
  {
   "cell_type": "code",
   "execution_count": null,
   "metadata": {},
   "outputs": [],
   "source": [
    "def build_npz(source_path, size=(480, 480)):\n",
    "    files = sorted([file for file in glob.glob('/media/doliolarzz/Ubuntu_data/wni_data/201807/*/*.bin')])\n",
    "    \n",
    "    target = np.array(geo_to_pixel(target_bound), dtype=np.int)\n",
    "    \n",
    "    raw_data = np.zeros((len(files), size[0], size[1]))\n",
    "    for i, f in enumerate(files):\n",
    "        data = np.fromfile(f, dtype=np.float32).reshape((h, w))\n",
    "        data = data[target[0, 0] : target[1, 0], target[1, 0] : target[1, 1]]\n",
    "        raw_data[i] = cv2.resize(data, size, cv2.INTER_LINEAR)\n",
    "        \n",
    "    np.savez_compressed('./data.npz', data=raw_data, original_coor=target)"
   ]
  },
  {
   "cell_type": "code",
   "execution_count": 57,
   "metadata": {},
   "outputs": [],
   "source": [
    "a = np.arange(10)\n",
    "b = np.arange(3)"
   ]
  },
  {
   "cell_type": "code",
   "execution_count": 63,
   "metadata": {},
   "outputs": [],
   "source": [
    "x = np.hstack([np.repeat(a[:,None], b.shape[0], axis=0), np.tile(b, a.shape[0])[:,None]])\n",
    "np.random.shuffle(x)"
   ]
  },
  {
   "cell_type": "code",
   "execution_count": 68,
   "metadata": {},
   "outputs": [
    {
     "data": {
      "text/plain": [
       "array([[0, 2],\n",
       "       [1, 6],\n",
       "       [0, 8],\n",
       "       [0, 3],\n",
       "       [2, 3],\n",
       "       [0, 4],\n",
       "       [0, 0],\n",
       "       [1, 1],\n",
       "       [0, 7],\n",
       "       [2, 6],\n",
       "       [0, 5],\n",
       "       [0, 9],\n",
       "       [1, 8],\n",
       "       [1, 4],\n",
       "       [1, 7],\n",
       "       [0, 2],\n",
       "       [2, 8],\n",
       "       [2, 5],\n",
       "       [0, 1],\n",
       "       [0, 1],\n",
       "       [1, 3],\n",
       "       [1, 9],\n",
       "       [0, 6],\n",
       "       [2, 4],\n",
       "       [2, 2],\n",
       "       [1, 5],\n",
       "       [2, 7],\n",
       "       [2, 9],\n",
       "       [1, 2],\n",
       "       [1, 2]])"
      ]
     },
     "execution_count": 68,
     "metadata": {},
     "output_type": "execute_result"
    }
   ],
   "source": [
    "np.sort(x)"
   ]
  },
  {
   "cell_type": "code",
   "execution_count": 18,
   "metadata": {},
   "outputs": [
    {
     "ename": "ValueError",
     "evalue": "all the input array dimensions for the concatenation axis must match exactly, but along dimension 0, the array at index 0 has size 10 and the array at index 1 has size 1",
     "output_type": "error",
     "traceback": [
      "\u001b[0;31m---------------------------------------------------------------------------\u001b[0m",
      "\u001b[0;31mValueError\u001b[0m                                Traceback (most recent call last)",
      "\u001b[0;32m<ipython-input-18-a98e090baffb>\u001b[0m in \u001b[0;36m<module>\u001b[0;34m\u001b[0m\n\u001b[0;32m----> 1\u001b[0;31m \u001b[0mnp\u001b[0m\u001b[0;34m.\u001b[0m\u001b[0mhstack\u001b[0m\u001b[0;34m(\u001b[0m\u001b[0;34m[\u001b[0m\u001b[0ma\u001b[0m\u001b[0;34m[\u001b[0m\u001b[0;34m:\u001b[0m\u001b[0;34m,\u001b[0m \u001b[0;32mNone\u001b[0m\u001b[0;34m]\u001b[0m\u001b[0;34m,\u001b[0m \u001b[0mb\u001b[0m\u001b[0;34m[\u001b[0m\u001b[0;32mNone\u001b[0m\u001b[0;34m,\u001b[0m \u001b[0;34m:\u001b[0m\u001b[0;34m]\u001b[0m\u001b[0;34m]\u001b[0m\u001b[0;34m)\u001b[0m\u001b[0;34m\u001b[0m\u001b[0;34m\u001b[0m\u001b[0m\n\u001b[0m",
      "\u001b[0;32m<__array_function__ internals>\u001b[0m in \u001b[0;36mhstack\u001b[0;34m(*args, **kwargs)\u001b[0m\n",
      "\u001b[0;32m~/.local/lib/python3.6/site-packages/numpy/core/shape_base.py\u001b[0m in \u001b[0;36mhstack\u001b[0;34m(tup)\u001b[0m\n\u001b[1;32m    343\u001b[0m         \u001b[0;32mreturn\u001b[0m \u001b[0m_nx\u001b[0m\u001b[0;34m.\u001b[0m\u001b[0mconcatenate\u001b[0m\u001b[0;34m(\u001b[0m\u001b[0marrs\u001b[0m\u001b[0;34m,\u001b[0m \u001b[0;36m0\u001b[0m\u001b[0;34m)\u001b[0m\u001b[0;34m\u001b[0m\u001b[0;34m\u001b[0m\u001b[0m\n\u001b[1;32m    344\u001b[0m     \u001b[0;32melse\u001b[0m\u001b[0;34m:\u001b[0m\u001b[0;34m\u001b[0m\u001b[0;34m\u001b[0m\u001b[0m\n\u001b[0;32m--> 345\u001b[0;31m         \u001b[0;32mreturn\u001b[0m \u001b[0m_nx\u001b[0m\u001b[0;34m.\u001b[0m\u001b[0mconcatenate\u001b[0m\u001b[0;34m(\u001b[0m\u001b[0marrs\u001b[0m\u001b[0;34m,\u001b[0m \u001b[0;36m1\u001b[0m\u001b[0;34m)\u001b[0m\u001b[0;34m\u001b[0m\u001b[0;34m\u001b[0m\u001b[0m\n\u001b[0m\u001b[1;32m    346\u001b[0m \u001b[0;34m\u001b[0m\u001b[0m\n\u001b[1;32m    347\u001b[0m \u001b[0;34m\u001b[0m\u001b[0m\n",
      "\u001b[0;32m<__array_function__ internals>\u001b[0m in \u001b[0;36mconcatenate\u001b[0;34m(*args, **kwargs)\u001b[0m\n",
      "\u001b[0;31mValueError\u001b[0m: all the input array dimensions for the concatenation axis must match exactly, but along dimension 0, the array at index 0 has size 10 and the array at index 1 has size 1"
     ]
    }
   ],
   "source": [
    "np.hstack([a[:, None], b[None, :]])"
   ]
  },
  {
   "cell_type": "code",
   "execution_count": 19,
   "metadata": {},
   "outputs": [],
   "source": [
    "c_back = np.power(200, 5/8)\n",
    "def dbz_mm(value):\n",
    "    return np.power(10, value*15/4) / c_back - 1e-4\n",
    "\n",
    "c_f = 16 / (60 * np.log(10))\n",
    "c_h = 5 / 8 * np.log(200)\n",
    "def mm_dbz(value):\n",
    "    return c_f * (c_h + np.log(value + 1e-4)) "
   ]
  },
  {
   "cell_type": "code",
   "execution_count": 24,
   "metadata": {},
   "outputs": [],
   "source": [
    "data = np.fromfile('a.bin', dtype=np.float32).reshape((height, width))"
   ]
  },
  {
   "cell_type": "code",
   "execution_count": 21,
   "metadata": {},
   "outputs": [],
   "source": [
    "def fp_fn_image_csi(pred, gt, threshold=0.2):\n",
    "    # categorize\n",
    "    gt, pred = gt.copy(), pred.copy()\n",
    "    gt[gt < threshold] = 0\n",
    "    gt[gt >= threshold] = 1\n",
    "    pred[pred < threshold] = 0\n",
    "    pred[pred >= threshold] = 1\n",
    "\n",
    "    # evaluate\n",
    "    fp = np.sum((gt == 0) & (pred == 1))\n",
    "    fn = np.sum((gt == 1) & (pred == 0))\n",
    "    tp = np.sum((gt == 1) & (pred == 1))\n",
    "\n",
    "    csi = float(tp) / (fp + fn + tp) * 100\n",
    "\n",
    "    return csi"
   ]
  },
  {
   "cell_type": "code",
   "execution_count": 22,
   "metadata": {},
   "outputs": [
    {
     "data": {
      "text/plain": [
       "2.379791e-06"
      ]
     },
     "execution_count": 22,
     "metadata": {},
     "output_type": "execute_result"
    }
   ],
   "source": [
    "np.sum((dbz_mm(mm_dbz(data)) - data) ** 2)"
   ]
  },
  {
   "cell_type": "code",
   "execution_count": 23,
   "metadata": {},
   "outputs": [
    {
     "data": {
      "text/plain": [
       "100.0"
      ]
     },
     "execution_count": 23,
     "metadata": {},
     "output_type": "execute_result"
    }
   ],
   "source": [
    "fp_fn_image_csi(dbz_mm(mm_dbz(data)), data)"
   ]
  },
  {
   "cell_type": "code",
   "execution_count": null,
   "metadata": {},
   "outputs": [],
   "source": []
  }
 ],
 "metadata": {
  "kernelspec": {
   "display_name": "Python 3",
   "language": "python",
   "name": "python3"
  },
  "language_info": {
   "codemirror_mode": {
    "name": "ipython",
    "version": 3
   },
   "file_extension": ".py",
   "mimetype": "text/x-python",
   "name": "python",
   "nbconvert_exporter": "python",
   "pygments_lexer": "ipython3",
   "version": "3.6.5"
  }
 },
 "nbformat": 4,
 "nbformat_minor": 2
}
