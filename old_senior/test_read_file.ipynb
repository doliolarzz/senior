{
 "cells": [
  {
   "cell_type": "code",
   "execution_count": 48,
   "metadata": {},
   "outputs": [],
   "source": [
    "from PIL import Image\n",
    "import numpy as np\n",
    "import matplotlib.pyplot as plt"
   ]
  },
  {
   "cell_type": "code",
   "execution_count": 49,
   "metadata": {},
   "outputs": [],
   "source": [
    "data = np.fromfile('a.bin', dtype=np.float32)"
   ]
  },
  {
   "cell_type": "code",
   "execution_count": 50,
   "metadata": {},
   "outputs": [
    {
     "data": {
      "text/plain": [
       "(3360, 2560)"
      ]
     },
     "execution_count": 50,
     "metadata": {},
     "output_type": "execute_result"
    }
   ],
   "source": [
    "data.reshape((3360, 2560)).shape"
   ]
  },
  {
   "cell_type": "code",
   "execution_count": 51,
   "metadata": {},
   "outputs": [
    {
     "data": {
      "text/plain": [
       "array([  0.  ,   0.2 ,   0.3 ,   0.4 ,   0.5 ,   0.6 ,   0.7 ,   0.8 ,\n",
       "         0.9 ,   1.  ,   1.1 ,   1.2 ,   1.3 ,   1.4 ,   1.5 ,   1.6 ,\n",
       "         1.7 ,   1.8 ,   1.9 ,   2.  ,   2.25,   2.5 ,   2.75,   3.  ,\n",
       "         3.25,   3.5 ,   3.75,   4.  ,   4.25,   4.5 ,   4.75,   5.  ,\n",
       "         5.5 ,   6.  ,   6.5 ,   7.  ,   7.5 ,   8.  ,   8.5 ,   9.  ,\n",
       "         9.5 ,  10.  ,  11.  ,  12.  ,  13.  ,  14.  ,  15.  ,  16.  ,\n",
       "        17.  ,  18.  ,  19.  ,  20.  ,  21.  ,  22.  ,  23.  ,  24.  ,\n",
       "        25.  ,  26.  ,  27.  ,  28.  ,  29.  ,  30.  ,  31.  ,  32.  ,\n",
       "        33.  ,  34.  ,  35.  ,  36.  ,  37.  ,  38.  ,  39.  ,  40.  ,\n",
       "        41.  ,  42.  ,  43.  ,  44.  ,  45.  ,  46.  ,  47.  ,  48.  ,\n",
       "        49.  ,  50.  ,  51.  ,  52.  ,  53.  ,  54.  ,  55.  ,  56.  ,\n",
       "        57.  ,  58.  ,  59.  ,  60.  ,  61.  ,  62.  ,  63.  ,  65.  ,\n",
       "        66.  ,  68.  ,  70.  ,  71.  ,  72.  ,  73.  ,  74.  ,  75.  ,\n",
       "        76.  ,  77.  ,  84.  ,  88.  ,  89.  ,  92.  , 105.  , 119.  ,\n",
       "       121.  , 123.  , 149.  ], dtype=float32)"
      ]
     },
     "execution_count": 51,
     "metadata": {},
     "output_type": "execute_result"
    }
   ],
   "source": [
    "np.unique(data)"
   ]
  },
  {
   "cell_type": "code",
   "execution_count": 53,
   "metadata": {},
   "outputs": [],
   "source": [
    "h, w = (3360, 2560)\n",
    "img_bound = np.array([[20.005, 118.006], [47.9958, 149.994]])\n",
    "img_diff = img_bound[1] - img_bound[0]\n",
    "target_bound = np.array([[32.64771151178918, 130.93422148209825], [35.302357836338416, 138.65278934221482]])\n",
    "def geo_to_pixel(data):\n",
    "    data[:, 0] = (data[:, 0] - img_bound[0, 0]) * w / img_diff[0]\n",
    "    data[:, 1] = (data[:, 1] - img_bound[0, 1]) * h / img_diff[1]\n",
    "    return data\n",
    "x = geo_to_pixel(target_bound)"
   ]
  },
  {
   "cell_type": "code",
   "execution_count": 59,
   "metadata": {},
   "outputs": [],
   "source": [
    "\n",
    "x = geo_to_pixel(target_bound)"
   ]
  },
  {
   "cell_type": "code",
   "execution_count": 64,
   "metadata": {},
   "outputs": [
    {
     "data": {
      "text/plain": [
       "1.3125"
      ]
     },
     "execution_count": 64,
     "metadata": {},
     "output_type": "execute_result"
    }
   ],
   "source": [
    "3360 / 2560"
   ]
  },
  {
   "cell_type": "code",
   "execution_count": 66,
   "metadata": {},
   "outputs": [
    {
     "data": {
      "text/plain": [
       "1.1428040641925203"
      ]
     },
     "execution_count": 66,
     "metadata": {},
     "output_type": "execute_result"
    }
   ],
   "source": [
    "31.988 / 27.9908"
   ]
  },
  {
   "cell_type": "code",
   "execution_count": 69,
   "metadata": {},
   "outputs": [],
   "source": [
    "import glob\n",
    "files = sorted([file for file in glob.glob('/media/doliolarzz/Ubuntu_data/wni_data/201807/*/*.bin')])\n"
   ]
  },
  {
   "cell_type": "code",
   "execution_count": 71,
   "metadata": {},
   "outputs": [
    {
     "data": {
      "text/plain": [
       "4464"
      ]
     },
     "execution_count": 71,
     "metadata": {},
     "output_type": "execute_result"
    }
   ],
   "source": [
    "len(files)"
   ]
  },
  {
   "cell_type": "code",
   "execution_count": null,
   "metadata": {},
   "outputs": [],
   "source": []
  }
 ],
 "metadata": {
  "kernelspec": {
   "display_name": "Python 3",
   "language": "python",
   "name": "python3"
  },
  "language_info": {
   "codemirror_mode": {
    "name": "ipython",
    "version": 3
   },
   "file_extension": ".py",
   "mimetype": "text/x-python",
   "name": "python",
   "nbconvert_exporter": "python",
   "pygments_lexer": "ipython3",
   "version": "3.6.9"
  }
 },
 "nbformat": 4,
 "nbformat_minor": 2
}
