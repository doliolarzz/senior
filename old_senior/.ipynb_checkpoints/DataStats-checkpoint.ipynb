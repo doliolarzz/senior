{
 "cells": [
  {
   "cell_type": "code",
   "execution_count": 1,
   "metadata": {},
   "outputs": [],
   "source": [
    "import numpy as np\n",
    "import os, glob\n",
    "from datetime import datetime\n",
    "from tqdm.notebook import tqdm\n",
    "import matplotlib.pyplot as plt"
   ]
  },
  {
   "cell_type": "markdown",
   "metadata": {},
   "source": [
    "# Check missing Data"
   ]
  },
  {
   "cell_type": "code",
   "execution_count": 21,
   "metadata": {},
   "outputs": [],
   "source": [
    "def check_missing_data(year='????'):\n",
    "    files = sorted([file for file in glob.glob('/data/wni_dataset/%s??/*/*.bin' % year)])\n",
    "    file_dt = [datetime.strptime(os.path.basename(file).split('.')[0], '%Y%m%d_%H%M') for file in files]\n",
    "    time_delta = np.vectorize(lambda x: x.seconds//60+x.days)(np.array(file_dt[1:]) - np.array(file_dt[:-1]))\n",
    "    missings = np.where(time_delta>10)[0]\n",
    "    print(missings)\n",
    "    for i in missings:\n",
    "        print(files[i-2:i+2])\n",
    "    return files, missings"
   ]
  },
  {
   "cell_type": "markdown",
   "metadata": {},
   "source": [
    "## 2018"
   ]
  },
  {
   "cell_type": "code",
   "execution_count": 3,
   "metadata": {
    "scrolled": false
   },
   "outputs": [
    {
     "name": "stdout",
     "output_type": "stream",
     "text": [
      "[1630 1701]\n",
      "['/data/wni_dataset/201806/12/20180612_0740.bin', '/data/wni_dataset/201806/12/20180612_0800.bin']\n",
      "['/data/wni_dataset/201806/12/20180612_1940.bin', '/data/wni_dataset/201806/12/20180612_2000.bin']\n"
     ]
    }
   ],
   "source": [
    "_, _ = check_missing_data(year='2018')"
   ]
  },
  {
   "cell_type": "markdown",
   "metadata": {},
   "source": [
    "## 2019"
   ]
  },
  {
   "cell_type": "code",
   "execution_count": 4,
   "metadata": {},
   "outputs": [
    {
     "name": "stdout",
     "output_type": "stream",
     "text": [
      "[ 2022  2966 24629]\n",
      "['/data/wni_dataset/201906/15/20190615_0100.bin', '/data/wni_dataset/201906/15/20190615_0120.bin']\n",
      "['/data/wni_dataset/201906/21/20190621_1430.bin', '/data/wni_dataset/201906/22/20190622_0000.bin']\n",
      "['/data/wni_dataset/201911/19/20191119_1020.bin', '/data/wni_dataset/201911/19/20191119_1150.bin']\n"
     ]
    }
   ],
   "source": [
    "_, _ = check_missing_data(year='2019')"
   ]
  },
  {
   "cell_type": "markdown",
   "metadata": {},
   "source": [
    "## ALL"
   ]
  },
  {
   "cell_type": "code",
   "execution_count": 22,
   "metadata": {},
   "outputs": [
    {
     "name": "stdout",
     "output_type": "stream",
     "text": [
      "[ 1630  1701 13101 17421 19444 20388 42051]\n",
      "['/data/wni_dataset/201806/12/20180612_0720.bin', '/data/wni_dataset/201806/12/20180612_0730.bin', '/data/wni_dataset/201806/12/20180612_0740.bin', '/data/wni_dataset/201806/12/20180612_0800.bin']\n",
      "['/data/wni_dataset/201806/12/20180612_1920.bin', '/data/wni_dataset/201806/12/20180612_1930.bin', '/data/wni_dataset/201806/12/20180612_1940.bin', '/data/wni_dataset/201806/12/20180612_2000.bin']\n",
      "['/data/wni_dataset/201808/30/20180830_2330.bin', '/data/wni_dataset/201808/30/20180830_2340.bin', '/data/wni_dataset/201808/30/20180830_2350.bin', '/data/wni_dataset/201809/01/20180901_0000.bin']\n",
      "['/data/wni_dataset/201809/30/20180930_2330.bin', '/data/wni_dataset/201809/30/20180930_2340.bin', '/data/wni_dataset/201809/30/20180930_2350.bin', '/data/wni_dataset/201906/01/20190601_0000.bin']\n",
      "['/data/wni_dataset/201906/15/20190615_0040.bin', '/data/wni_dataset/201906/15/20190615_0050.bin', '/data/wni_dataset/201906/15/20190615_0100.bin', '/data/wni_dataset/201906/15/20190615_0120.bin']\n",
      "['/data/wni_dataset/201906/21/20190621_1410.bin', '/data/wni_dataset/201906/21/20190621_1420.bin', '/data/wni_dataset/201906/21/20190621_1430.bin', '/data/wni_dataset/201906/22/20190622_0000.bin']\n",
      "['/data/wni_dataset/201911/19/20191119_1000.bin', '/data/wni_dataset/201911/19/20191119_1010.bin', '/data/wni_dataset/201911/19/20191119_1020.bin', '/data/wni_dataset/201911/19/20191119_1150.bin']\n"
     ]
    }
   ],
   "source": [
    "_, _ = check_missing_data()"
   ]
  },
  {
   "cell_type": "code",
   "execution_count": 27,
   "metadata": {},
   "outputs": [],
   "source": [
    "x = [1630, 1701, 13101, 17421, 19444, 20388, 42051]\n",
    "y = []"
   ]
  },
  {
   "cell_type": "code",
   "execution_count": 28,
   "metadata": {},
   "outputs": [],
   "source": [
    "for i in x:\n",
    "    for j in range(24):\n",
    "        y.append(i - j)"
   ]
  },
  {
   "cell_type": "code",
   "execution_count": 30,
   "metadata": {},
   "outputs": [
    {
     "data": {
      "text/plain": [
       "array([ 1630,  1629,  1628,  1627,  1626,  1625,  1624,  1623,  1622,\n",
       "        1621,  1620,  1619,  1618,  1617,  1616,  1615,  1614,  1613,\n",
       "        1612,  1611,  1610,  1609,  1608,  1607,  1701,  1700,  1699,\n",
       "        1698,  1697,  1696,  1695,  1694,  1693,  1692,  1691,  1690,\n",
       "        1689,  1688,  1687,  1686,  1685,  1684,  1683,  1682,  1681,\n",
       "        1680,  1679,  1678, 13101, 13100, 13099, 13098, 13097, 13096,\n",
       "       13095, 13094, 13093, 13092, 13091, 13090, 13089, 13088, 13087,\n",
       "       13086, 13085, 13084, 13083, 13082, 13081, 13080, 13079, 13078,\n",
       "       17421, 17420, 17419, 17418, 17417, 17416, 17415, 17414, 17413,\n",
       "       17412, 17411, 17410, 17409, 17408, 17407, 17406, 17405, 17404,\n",
       "       17403, 17402, 17401, 17400, 17399, 17398, 19444, 19443, 19442,\n",
       "       19441, 19440, 19439, 19438, 19437, 19436, 19435, 19434, 19433,\n",
       "       19432, 19431, 19430, 19429, 19428, 19427, 19426, 19425, 19424,\n",
       "       19423, 19422, 19421, 20388, 20387, 20386, 20385, 20384, 20383,\n",
       "       20382, 20381, 20380, 20379, 20378, 20377, 20376, 20375, 20374,\n",
       "       20373, 20372, 20371, 20370, 20369, 20368, 20367, 20366, 20365,\n",
       "       42051, 42050, 42049, 42048, 42047, 42046, 42045, 42044, 42043,\n",
       "       42042, 42041, 42040, 42039, 42038, 42037, 42036, 42035, 42034,\n",
       "       42033, 42032, 42031, 42030, 42029, 42028])"
      ]
     },
     "execution_count": 30,
     "metadata": {},
     "output_type": "execute_result"
    }
   ],
   "source": [
    "np.array(y)"
   ]
  },
  {
   "cell_type": "markdown",
   "metadata": {},
   "source": [
    "# Check Normalizing Data"
   ]
  },
  {
   "cell_type": "code",
   "execution_count": 6,
   "metadata": {},
   "outputs": [],
   "source": [
    "c_f = 16 / (60 * np.log(10))\n",
    "c_h = 5 / 8 * np.log(200)\n",
    "def mm_dbz(value):\n",
    "    return c_f * (c_h + np.log(value + 1e-4))"
   ]
  },
  {
   "cell_type": "code",
   "execution_count": 7,
   "metadata": {},
   "outputs": [
    {
     "name": "stdout",
     "output_type": "stream",
     "text": [
      "[ 1630  1701 19444 20388 42051]\n",
      "['/data/wni_dataset/201806/12/20180612_0740.bin', '/data/wni_dataset/201806/12/20180612_0800.bin']\n",
      "['/data/wni_dataset/201806/12/20180612_1940.bin', '/data/wni_dataset/201806/12/20180612_2000.bin']\n",
      "['/data/wni_dataset/201906/15/20190615_0100.bin', '/data/wni_dataset/201906/15/20190615_0120.bin']\n",
      "['/data/wni_dataset/201906/21/20190621_1430.bin', '/data/wni_dataset/201906/22/20190622_0000.bin']\n",
      "['/data/wni_dataset/201911/19/20191119_1020.bin', '/data/wni_dataset/201911/19/20191119_1150.bin']\n"
     ]
    }
   ],
   "source": [
    "files, missings = check_missing_data()"
   ]
  },
  {
   "cell_type": "code",
   "execution_count": 8,
   "metadata": {},
   "outputs": [],
   "source": [
    "height, width = (3360, 2560)"
   ]
  },
  {
   "cell_type": "code",
   "execution_count": 25,
   "metadata": {},
   "outputs": [
    {
     "data": {
      "application/vnd.jupyter.widget-view+json": {
       "model_id": "43ec13d456414959bbed7671010cd286",
       "version_major": 2,
       "version_minor": 0
      },
      "text/plain": [
       "HBox(children=(FloatProgress(value=0.0), HTML(value='')))"
      ]
     },
     "metadata": {},
     "output_type": "display_data"
    },
    {
     "name": "stdout",
     "output_type": "stream",
     "text": [
      "\n",
      "1.0310568749473177\n",
      "0.0747228767496905\n"
     ]
    },
    {
     "data": {
      "text/plain": [
       "(array([8.59752844e+08, 3.15434000e+05, 6.23270000e+04, 1.80720000e+04,\n",
       "        6.37900000e+03, 2.47000000e+03, 1.12900000e+03, 5.51000000e+02,\n",
       "        3.20000000e+02, 4.74000000e+02]),\n",
       " array([  0.,  20.,  40.,  60.,  80., 100., 120., 140., 160., 180., 200.]),\n",
       " <a list of 10 Patch objects>)"
      ]
     },
     "execution_count": 25,
     "metadata": {},
     "output_type": "execute_result"
    },
    {
     "data": {
      "image/png": "[encoded data removed]",
      "text/plain": [
       "<Figure size 432x288 with 1 Axes>"
      ]
     },
     "metadata": {
      "needs_background": "light"
     },
     "output_type": "display_data"
    }
   ],
   "source": [
    "n = 100\n",
    "idxs = np.random.choice(len(files), n)\n",
    "data_all = np.zeros((n, height, width))\n",
    "for i, idx in enumerate(tqdm(idxs)):\n",
    "    data_all[i] = np.fromfile(files[idx], dtype=np.float32).reshape((height, width))"
   ]
  },
  {
   "cell_type": "code",
   "execution_count": 27,
   "metadata": {},
   "outputs": [
    {
     "name": "stdout",
     "output_type": "stream",
     "text": [
      "1.0310568749473177\n",
      "0.0747228767496905\n"
     ]
    },
    {
     "data": {
      "image/png": "[encoded data removed]",
      "text/plain": [
       "<Figure size 432x288 with 1 Axes>"
      ]
     },
     "metadata": {
      "needs_background": "light"
     },
     "output_type": "display_data"
    }
   ],
   "source": [
    "print(np.std(data_all))\n",
    "print(np.mean(data_all))\n",
    "_ = plt.hist(data_all.reshape(-1), bins=100)"
   ]
  },
  {
   "cell_type": "code",
   "execution_count": 35,
   "metadata": {},
   "outputs": [
    {
     "name": "stdout",
     "output_type": "stream",
     "text": [
      "0.16065719858042643\n",
      "-0.66057608125383\n"
     ]
    },
    {
     "data": {
      "image/png": "[encoded data removed]",
      "text/plain": [
       "<Figure size 432x288 with 1 Axes>"
      ]
     },
     "metadata": {
      "needs_background": "light"
     },
     "output_type": "display_data"
    }
   ],
   "source": [
    "x = data_all\n",
    "print(np.std(mm_dbz(data_all)))\n",
    "print(np.mean(mm_dbz(data_all)))\n",
    "_ = plt.hist(mm_dbz(data_all[data_all>0]).reshape(-1), bins=100)"
   ]
  },
  {
   "cell_type": "code",
   "execution_count": null,
   "metadata": {},
   "outputs": [],
   "source": [
    "ตัด 0 ออก"
   ]
  }
 ],
 "metadata": {
  "kernelspec": {
   "display_name": "Python 3",
   "language": "python",
   "name": "python3"
  },
  "language_info": {
   "codemirror_mode": {
    "name": "ipython",
    "version": 3
   },
   "file_extension": ".py",
   "mimetype": "text/x-python",
   "name": "python",
   "nbconvert_exporter": "python",
   "pygments_lexer": "ipython3",
   "version": "3.7.5"
  }
 },
 "nbformat": 4,
 "nbformat_minor": 2
}
