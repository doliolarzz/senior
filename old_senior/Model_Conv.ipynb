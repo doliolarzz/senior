{
 "cells": [
  {
   "cell_type": "code",
   "execution_count": 1,
   "metadata": {
    "nbpresent": {
     "id": "cc0fa50f-6e40-4ae2-8bec-80fd533edc27"
    }
   },
   "outputs": [],
   "source": [
    "import sys\n",
    "import torch\n",
    "from nowcasting.config import cfg\n",
    "from nowcasting.models.forecaster import Forecaster\n",
    "from nowcasting.models.encoder import Encoder\n",
    "from nowcasting.models.model import EF\n",
    "from torch.optim import lr_scheduler\n",
    "from nowcasting.models.loss import Weighted_mse_mae\n",
    "import os, shutil\n",
    "from experiments.net_params import convlstm_encoder_params, convlstm_forecaster_params\n",
    "import torchvision\n",
    "import numpy as np\n",
    "from tqdm.notebook import tqdm\n",
    "from torch.utils.tensorboard import SummaryWriter\n",
    "import pickle"
   ]
  },
  {
   "cell_type": "code",
   "execution_count": 2,
   "metadata": {
    "nbpresent": {
     "id": "2f25b624-23e0-4fcf-bd96-d616dd6f0a7c"
    }
   },
   "outputs": [],
   "source": [
    "data = np.load('./rainy-nexrad-normed.npz')\n",
    "x_data = data['x_data']\n",
    "x_mask = data['x_mask']\n",
    "x_max = data['x_max']\n",
    "x_min = data['x_min']\n",
    "x = np.ma.MaskedArray(x_data, x_mask)"
   ]
  },
  {
   "cell_type": "code",
   "execution_count": 3,
   "metadata": {
    "nbpresent": {
     "id": "7d4f56c7-5d84-4939-9532-9c0776c5af94"
    }
   },
   "outputs": [
    {
     "data": {
      "text/plain": [
       "(4494, 480, 480)"
      ]
     },
     "execution_count": 3,
     "metadata": {},
     "output_type": "execute_result"
    }
   ],
   "source": [
    "x.shape"
   ]
  },
  {
   "cell_type": "code",
   "execution_count": 4,
   "metadata": {
    "nbpresent": {
     "id": "d08a8f32-5ebe-4b76-a3f6-83b9d2a265c9"
    }
   },
   "outputs": [],
   "source": [
    "with open(\"files.pkl\", \"rb\") as f:\n",
    "    files = pickle.load(f)\n",
    "with open(\"dts.pkl\", \"rb\") as f:\n",
    "    dts = pickle.load(f)\n",
    "with open(\"lost_mark.pkl\", \"rb\") as f:\n",
    "    lost_mark = pickle.load(f)"
   ]
  },
  {
   "cell_type": "code",
   "execution_count": 5,
   "metadata": {},
   "outputs": [],
   "source": [
    "window_size = 12"
   ]
  },
  {
   "cell_type": "code",
   "execution_count": 6,
   "metadata": {},
   "outputs": [],
   "source": [
    "time_delta = np.vectorize(lambda x: x.seconds//60)(np.array(dts[1:]) - np.array(dts[:-1]))\n",
    "mark = np.argwhere(time_delta>15).reshape(-1) + 1\n",
    "mark = np.append(mark, len(files))\n",
    "mark = np.array(sorted(np.unique(mark.tolist() + lost_mark)))\n",
    "sliding_idx = np.arange(x.shape[0] - window_size + 1).astype(np.int)\n",
    "remove_idx = np.array([]).astype(np.int)\n",
    "for i in range(mark.shape[0]):\n",
    "    remove_idx = np.append(remove_idx, np.arange(window_size - 1) + mark[i] - window_size + 1)\n",
    "use_idx = np.setdiff1d(sliding_idx, remove_idx)"
   ]
  },
  {
   "cell_type": "code",
   "execution_count": 7,
   "metadata": {},
   "outputs": [
    {
     "data": {
      "text/plain": [
       "4404"
      ]
     },
     "execution_count": 7,
     "metadata": {},
     "output_type": "execute_result"
    }
   ],
   "source": [
    "len(use_idx)"
   ]
  },
  {
   "cell_type": "code",
   "execution_count": 8,
   "metadata": {
    "nbpresent": {
     "id": "791a747f-37d2-4cc7-8cec-bead0e374f74"
    }
   },
   "outputs": [],
   "source": [
    "train_loss = 0.0\n",
    "save_dir = os.path.join(cfg.GLOBAL.MODEL_SAVE_DIR, 'f')\n",
    "if not os.path.exists(save_dir):\n",
    "    os.mkdir(save_dir)\n",
    "model_save_dir = os.path.join(save_dir, 'models')\n",
    "log_dir = os.path.join(save_dir, 'logs')\n",
    "all_scalars_file_name = os.path.join(save_dir, \"all_scalars.json\")\n",
    "pkl_save_dir = os.path.join(save_dir, 'pkl')\n",
    "if os.path.exists(all_scalars_file_name):\n",
    "    os.remove(all_scalars_file_name)\n",
    "if os.path.exists(log_dir):\n",
    "    shutil.rmtree(log_dir)\n",
    "if os.path.exists(model_save_dir):\n",
    "    shutil.rmtree(model_save_dir)\n",
    "os.mkdir(model_save_dir)"
   ]
  },
  {
   "cell_type": "code",
   "execution_count": 9,
   "metadata": {
    "nbpresent": {
     "id": "acd5104d-1227-41b7-86ed-3a965a1425af"
    }
   },
   "outputs": [],
   "source": [
    "encoder = Encoder(convlstm_encoder_params[0], convlstm_encoder_params[1]).to(cfg.GLOBAL.DEVICE)\n",
    "forecaster = Forecaster(convlstm_forecaster_params[0], convlstm_forecaster_params[1]).to(cfg.GLOBAL.DEVICE)\n",
    "encoder_forecaster = EF(encoder, forecaster).to(cfg.GLOBAL.DEVICE)\n",
    "\n",
    "LR_step_size = 50\n",
    "gamma = 0.8\n",
    "max_iterations = 20\n",
    "LR = 1e-4\n",
    "batch_size = 8\n",
    "mse_loss = torch.nn.MSELoss()\n",
    "optimizer = torch.optim.Adam(encoder_forecaster.parameters(), lr=LR)\n",
    "exp_lr_scheduler = lr_scheduler.StepLR(optimizer, step_size=LR_step_size, gamma=gamma)\n",
    "\n",
    "t_end = 4000\n",
    "t_each = 327\n",
    "eval_every = 1\n",
    "n_window = 12"
   ]
  },
  {
   "cell_type": "code",
   "execution_count": 10,
   "metadata": {
    "nbpresent": {
     "id": "302231c4-97bb-45b5-8340-2054d3ba6029"
    }
   },
   "outputs": [],
   "source": [
    "train_loss = 0.0\n",
    "writer = SummaryWriter()\n",
    "all_itera = 1\n",
    "dataset = torch.from_numpy(x.astype(np.float32)).to(cfg.GLOBAL.DEVICE)\n",
    "dataset = dataset.unfold(0,n_window,1).permute(3,0,1,2)[:,:,None,:]"
   ]
  },
  {
   "cell_type": "code",
   "execution_count": 11,
   "metadata": {
    "nbpresent": {
     "id": "34073e2e-75e0-47b0-a7c0-2cb412437075"
    }
   },
   "outputs": [
    {
     "data": {
      "text/plain": [
       "torch.Size([12, 4483, 1, 480, 480])"
      ]
     },
     "execution_count": 11,
     "metadata": {},
     "output_type": "execute_result"
    }
   ],
   "source": [
    "dataset.shape"
   ]
  },
  {
   "cell_type": "code",
   "execution_count": 12,
   "metadata": {
    "nbpresent": {
     "id": "f8951418-f8da-4769-ae70-909f40b43111"
    },
    "scrolled": true
   },
   "outputs": [
    {
     "data": {
      "application/vnd.jupyter.widget-view+json": {
       "model_id": "9093a5587a0f4553b15bde5c68a70bfb",
       "version_major": 2,
       "version_minor": 0
      },
      "text/plain": [
       "HBox(children=(IntProgress(value=0, max=20), HTML(value='')))"
      ]
     },
     "metadata": {},
     "output_type": "display_data"
    },
    {
     "name": "stdout",
     "output_type": "stream",
     "text": [
      "\n"
     ]
    },
    {
     "data": {
      "application/vnd.jupyter.widget-view+json": {
       "model_id": "756bd2727b294319b3ee5ff7fc013307",
       "version_major": 2,
       "version_minor": 0
      },
      "text/plain": [
       "HBox(children=(IntProgress(value=0, max=20), HTML(value='')))"
      ]
     },
     "metadata": {},
     "output_type": "display_data"
    },
    {
     "ename": "KeyboardInterrupt",
     "evalue": "",
     "output_type": "error",
     "traceback": [
      "\u001b[0;31m---------------------------------------------------------------------------\u001b[0m",
      "\u001b[0;31mKeyboardInterrupt\u001b[0m                         Traceback (most recent call last)",
      "\u001b[0;32m<ipython-input-12-ca255201ae81>\u001b[0m in \u001b[0;36m<module>\u001b[0;34m\u001b[0m\n\u001b[1;32m     16\u001b[0m             \u001b[0moutput\u001b[0m \u001b[0;34m=\u001b[0m \u001b[0mencoder_forecaster\u001b[0m\u001b[0;34m(\u001b[0m\u001b[0mtrain_data\u001b[0m\u001b[0;34m)\u001b[0m\u001b[0;34m\u001b[0m\u001b[0;34m\u001b[0m\u001b[0m\n\u001b[1;32m     17\u001b[0m             \u001b[0mloss\u001b[0m \u001b[0;34m=\u001b[0m \u001b[0mmse_loss\u001b[0m\u001b[0;34m(\u001b[0m\u001b[0moutput\u001b[0m\u001b[0;34m,\u001b[0m \u001b[0mtrain_label\u001b[0m\u001b[0;34m)\u001b[0m\u001b[0;34m\u001b[0m\u001b[0;34m\u001b[0m\u001b[0m\n\u001b[0;32m---> 18\u001b[0;31m             \u001b[0mloss\u001b[0m\u001b[0;34m.\u001b[0m\u001b[0mbackward\u001b[0m\u001b[0;34m(\u001b[0m\u001b[0;34m)\u001b[0m\u001b[0;34m\u001b[0m\u001b[0;34m\u001b[0m\u001b[0m\n\u001b[0m\u001b[1;32m     19\u001b[0m             \u001b[0mtorch\u001b[0m\u001b[0;34m.\u001b[0m\u001b[0mnn\u001b[0m\u001b[0;34m.\u001b[0m\u001b[0mutils\u001b[0m\u001b[0;34m.\u001b[0m\u001b[0mclip_grad_value_\u001b[0m\u001b[0;34m(\u001b[0m\u001b[0mencoder_forecaster\u001b[0m\u001b[0;34m.\u001b[0m\u001b[0mparameters\u001b[0m\u001b[0;34m(\u001b[0m\u001b[0;34m)\u001b[0m\u001b[0;34m,\u001b[0m \u001b[0mclip_value\u001b[0m\u001b[0;34m=\u001b[0m\u001b[0;36m50.0\u001b[0m\u001b[0;34m)\u001b[0m\u001b[0;34m\u001b[0m\u001b[0;34m\u001b[0m\u001b[0m\n\u001b[1;32m     20\u001b[0m             \u001b[0moptimizer\u001b[0m\u001b[0;34m.\u001b[0m\u001b[0mstep\u001b[0m\u001b[0;34m(\u001b[0m\u001b[0;34m)\u001b[0m\u001b[0;34m\u001b[0m\u001b[0;34m\u001b[0m\u001b[0m\n",
      "\u001b[0;32m/opt/anaconda3/lib/python3.7/site-packages/torch/tensor.py\u001b[0m in \u001b[0;36mbackward\u001b[0;34m(self, gradient, retain_graph, create_graph)\u001b[0m\n\u001b[1;32m    164\u001b[0m                 \u001b[0mproducts\u001b[0m\u001b[0;34m.\u001b[0m \u001b[0mDefaults\u001b[0m \u001b[0mto\u001b[0m\u001b[0;31m \u001b[0m\u001b[0;31m`\u001b[0m\u001b[0;31m`\u001b[0m\u001b[0;32mFalse\u001b[0m\u001b[0;31m`\u001b[0m\u001b[0;31m`\u001b[0m\u001b[0;34m.\u001b[0m\u001b[0;34m\u001b[0m\u001b[0;34m\u001b[0m\u001b[0m\n\u001b[1;32m    165\u001b[0m         \"\"\"\n\u001b[0;32m--> 166\u001b[0;31m         \u001b[0mtorch\u001b[0m\u001b[0;34m.\u001b[0m\u001b[0mautograd\u001b[0m\u001b[0;34m.\u001b[0m\u001b[0mbackward\u001b[0m\u001b[0;34m(\u001b[0m\u001b[0mself\u001b[0m\u001b[0;34m,\u001b[0m \u001b[0mgradient\u001b[0m\u001b[0;34m,\u001b[0m \u001b[0mretain_graph\u001b[0m\u001b[0;34m,\u001b[0m \u001b[0mcreate_graph\u001b[0m\u001b[0;34m)\u001b[0m\u001b[0;34m\u001b[0m\u001b[0;34m\u001b[0m\u001b[0m\n\u001b[0m\u001b[1;32m    167\u001b[0m \u001b[0;34m\u001b[0m\u001b[0m\n\u001b[1;32m    168\u001b[0m     \u001b[0;32mdef\u001b[0m \u001b[0mregister_hook\u001b[0m\u001b[0;34m(\u001b[0m\u001b[0mself\u001b[0m\u001b[0;34m,\u001b[0m \u001b[0mhook\u001b[0m\u001b[0;34m)\u001b[0m\u001b[0;34m:\u001b[0m\u001b[0;34m\u001b[0m\u001b[0;34m\u001b[0m\u001b[0m\n",
      "\u001b[0;32m/opt/anaconda3/lib/python3.7/site-packages/torch/autograd/__init__.py\u001b[0m in \u001b[0;36mbackward\u001b[0;34m(tensors, grad_tensors, retain_graph, create_graph, grad_variables)\u001b[0m\n\u001b[1;32m     97\u001b[0m     Variable._execution_engine.run_backward(\n\u001b[1;32m     98\u001b[0m         \u001b[0mtensors\u001b[0m\u001b[0;34m,\u001b[0m \u001b[0mgrad_tensors\u001b[0m\u001b[0;34m,\u001b[0m \u001b[0mretain_graph\u001b[0m\u001b[0;34m,\u001b[0m \u001b[0mcreate_graph\u001b[0m\u001b[0;34m,\u001b[0m\u001b[0;34m\u001b[0m\u001b[0;34m\u001b[0m\u001b[0m\n\u001b[0;32m---> 99\u001b[0;31m         allow_unreachable=True)  # allow_unreachable flag\n\u001b[0m\u001b[1;32m    100\u001b[0m \u001b[0;34m\u001b[0m\u001b[0m\n\u001b[1;32m    101\u001b[0m \u001b[0;34m\u001b[0m\u001b[0m\n",
      "\u001b[0;31mKeyboardInterrupt\u001b[0m: "
     ]
    }
   ],
   "source": [
    "for t_train in range(3):\n",
    "    x_train_idx = use_idx[:t_end]\n",
    "    x_val_idx = use_idx[t_end:t_end+t_each]\n",
    "    x_val = dataset[:,x_val_idx]\n",
    "    t_end += t_each\n",
    "    idx = np.arange(x_train_idx.shape[0])\n",
    "    for itera in tqdm(range(1, max_iterations+1)):\n",
    "        np.random.shuffle(idx)\n",
    "        for b in range(int(np.ceil(idx.shape[0] / batch_size))):\n",
    "            cur_idx = x_train_idx[idx[b*batch_size:(b+1)*batch_size]]\n",
    "            train_batch = dataset[:,cur_idx,:]\n",
    "            train_data = train_batch[:6, ...]\n",
    "            train_label = train_batch[6:, ...]\n",
    "            encoder_forecaster.train()\n",
    "            optimizer.zero_grad()\n",
    "            output = encoder_forecaster(train_data)\n",
    "            loss = mse_loss(output, train_label)\n",
    "            loss.backward()\n",
    "            torch.nn.utils.clip_grad_value_(encoder_forecaster.parameters(), clip_value=50.0)\n",
    "            optimizer.step()\n",
    "            train_loss += loss.item()\n",
    "            exp_lr_scheduler.step()\n",
    "            del train_batch\n",
    "            del train_data\n",
    "            del train_label\n",
    "            torch.cuda.empty_cache()\n",
    "        \n",
    "        if all_itera % eval_every == 0:\n",
    "            valid_loss = 0.0\n",
    "            valid_time = 1\n",
    "            with torch.no_grad():\n",
    "                encoder_forecaster.eval()\n",
    "                for bb in range(int(np.ceil(x_val_idx.shape[0]/batch_size))):\n",
    "                    val_batch = x_val[:, bb*batch_size:(bb+1)*batch_size]\n",
    "                    val_data = val_batch[:6, ...]\n",
    "                    val_label = val_batch[6:, ...]\n",
    "                    output = encoder_forecaster(val_data)\n",
    "                    loss = mse_loss(output, val_label)\n",
    "                    valid_loss += loss.item()\n",
    "                    valid_time += 1\n",
    "                    del val_batch\n",
    "                    del val_data\n",
    "                    del val_label\n",
    "                    torch.cuda.empty_cache()\n",
    "\n",
    "            writer.add_scalars(\"mse\", {\n",
    "                \"train\": train_loss/eval_every,\n",
    "                \"valid\": valid_loss/valid_time,\n",
    "            }, all_itera)\n",
    "            train_loss = 0.0\n",
    "\n",
    "        all_itera += 1\n",
    "    del x_val\n",
    "    torch.cuda.empty_cache()\n",
    "    torch.save(encoder_forecaster.state_dict(), os.path.join(model_save_dir, 'conv_{}_{}.pth'.format(t_train,itera)))\n",
    "writer.close()"
   ]
  },
  {
   "cell_type": "code",
   "execution_count": null,
   "metadata": {},
   "outputs": [],
   "source": []
  }
 ],
 "metadata": {
  "kernelspec": {
   "display_name": "Python 3",
   "language": "python",
   "name": "python3"
  },
  "language_info": {
   "codemirror_mode": {
    "name": "ipython",
    "version": 3
   },
   "file_extension": ".py",
   "mimetype": "text/x-python",
   "name": "python",
   "nbconvert_exporter": "python",
   "pygments_lexer": "ipython3",
   "version": "3.6.5"
  },
  "nbpresent": {
   "slides": {
    "057d7416-925a-4066-9793-b20eed9f590d": {
     "id": "057d7416-925a-4066-9793-b20eed9f590d",
     "prev": "610acf5e-35b7-482c-8449-6deea472a54e",
     "regions": {
      "1b64ebf7-6dcd-4d0b-accd-192093b08304": {
       "attrs": {
        "height": 0.8,
        "width": 0.8,
        "x": 0.1,
        "y": 0.1
       },
       "content": {
        "cell": "34073e2e-75e0-47b0-a7c0-2cb412437075",
        "part": "whole"
       },
       "id": "1b64ebf7-6dcd-4d0b-accd-192093b08304"
      }
     }
    },
    "0ab2fe6a-48cc-4c5f-ac14-8f8cc05cc0ec": {
     "id": "0ab2fe6a-48cc-4c5f-ac14-8f8cc05cc0ec",
     "prev": "11170f42-0b85-480c-ba75-147307d9d930",
     "regions": {
      "76012ad5-6b7a-447d-95da-4d7dc0f1f15b": {
       "attrs": {
        "height": 0.8,
        "width": 0.8,
        "x": 0.1,
        "y": 0.1
       },
       "content": {
        "cell": "2ebf0a1a-2dc1-430c-be06-aa8b23d38d1b",
        "part": "whole"
       },
       "id": "76012ad5-6b7a-447d-95da-4d7dc0f1f15b"
      }
     }
    },
    "11170f42-0b85-480c-ba75-147307d9d930": {
     "id": "11170f42-0b85-480c-ba75-147307d9d930",
     "prev": "15308795-a850-4f24-9dfa-b7dba96f0e70",
     "regions": {
      "fa4ef8ed-a675-4b21-8fb3-dffc3abf1d79": {
       "attrs": {
        "height": 0.8,
        "width": 0.8,
        "x": 0.1,
        "y": 0.1
       },
       "content": {
        "cell": "d08a8f32-5ebe-4b76-a3f6-83b9d2a265c9",
        "part": "whole"
       },
       "id": "fa4ef8ed-a675-4b21-8fb3-dffc3abf1d79"
      }
     }
    },
    "13025fca-6f69-4193-8d3d-c8f35654eb45": {
     "id": "13025fca-6f69-4193-8d3d-c8f35654eb45",
     "prev": "057d7416-925a-4066-9793-b20eed9f590d",
     "regions": {
      "49d457cc-6383-4fc7-b593-9d7600a3f5e2": {
       "attrs": {
        "height": 0.8,
        "width": 0.8,
        "x": 0.1,
        "y": 0.1
       },
       "content": {
        "cell": "f8951418-f8da-4769-ae70-909f40b43111",
        "part": "whole"
       },
       "id": "49d457cc-6383-4fc7-b593-9d7600a3f5e2"
      }
     }
    },
    "15308795-a850-4f24-9dfa-b7dba96f0e70": {
     "id": "15308795-a850-4f24-9dfa-b7dba96f0e70",
     "prev": "89dc9baf-31f2-44d3-8d1b-fa2cf4bd397e",
     "regions": {
      "ce11b3ed-a1ac-45e2-829f-6cc3843ac83c": {
       "attrs": {
        "height": 0.8,
        "width": 0.8,
        "x": 0.1,
        "y": 0.1
       },
       "content": {
        "cell": "7d4f56c7-5d84-4939-9532-9c0776c5af94",
        "part": "whole"
       },
       "id": "ce11b3ed-a1ac-45e2-829f-6cc3843ac83c"
      }
     }
    },
    "2d13249d-22e1-4ad1-a5fa-a9e6ad1c3395": {
     "id": "2d13249d-22e1-4ad1-a5fa-a9e6ad1c3395",
     "prev": "c724f9f6-9eb6-4812-b20c-bb5cfb29dbe8",
     "regions": {
      "78392767-9a35-4dae-afb5-2322a818c7b0": {
       "attrs": {
        "height": 0.8,
        "width": 0.8,
        "x": 0.1,
        "y": 0.1
       },
       "content": {
        "cell": "302231c4-97bb-45b5-8340-2054d3ba6029",
        "part": "whole"
       },
       "id": "78392767-9a35-4dae-afb5-2322a818c7b0"
      }
     }
    },
    "54cd40f8-2926-49f3-80ea-1c9602ccecf7": {
     "id": "54cd40f8-2926-49f3-80ea-1c9602ccecf7",
     "prev": "13025fca-6f69-4193-8d3d-c8f35654eb45",
     "regions": {
      "6f268782-e385-4f87-a361-fa5a9c647c85": {
       "attrs": {
        "height": 0.8,
        "width": 0.8,
        "x": 0.1,
        "y": 0.1
       },
       "content": {
        "cell": "63cf18fc-7701-40ae-b8f5-4b8e3d15824c",
        "part": "whole"
       },
       "id": "6f268782-e385-4f87-a361-fa5a9c647c85"
      }
     }
    },
    "610acf5e-35b7-482c-8449-6deea472a54e": {
     "id": "610acf5e-35b7-482c-8449-6deea472a54e",
     "prev": "799cda37-93eb-470f-8f55-861c0430eddd",
     "regions": {
      "3046d3b0-8687-4ce1-88a6-2ec9a9722d51": {
       "attrs": {
        "height": 0.8,
        "width": 0.8,
        "x": 0.1,
        "y": 0.1
       },
       "content": {
        "cell": "302231c4-97bb-45b5-8340-2054d3ba6029",
        "part": "whole"
       },
       "id": "3046d3b0-8687-4ce1-88a6-2ec9a9722d51"
      }
     }
    },
    "799cda37-93eb-470f-8f55-861c0430eddd": {
     "id": "799cda37-93eb-470f-8f55-861c0430eddd",
     "prev": "c1fc789d-e0d3-4bb1-8196-c94bfdfdd089",
     "regions": {
      "9c51751f-083a-47ec-989f-5d0e5dbb082d": {
       "attrs": {
        "height": 0.8,
        "width": 0.8,
        "x": 0.1,
        "y": 0.1
       },
       "content": {
        "cell": "acd5104d-1227-41b7-86ed-3a965a1425af",
        "part": "whole"
       },
       "id": "9c51751f-083a-47ec-989f-5d0e5dbb082d"
      }
     }
    },
    "7cd7fac3-7608-482b-950f-f90106dfd2c8": {
     "id": "7cd7fac3-7608-482b-950f-f90106dfd2c8",
     "prev": "b4c787f5-9407-4fd4-bb15-7a36522acf49",
     "regions": {
      "5be9fa01-af68-4f54-aab3-2eb8a4a5a223": {
       "attrs": {
        "height": 0.8,
        "width": 0.8,
        "x": 0.1,
        "y": 0.1
       },
       "content": {
        "cell": "7d4f56c7-5d84-4939-9532-9c0776c5af94",
        "part": "whole"
       },
       "id": "5be9fa01-af68-4f54-aab3-2eb8a4a5a223"
      }
     }
    },
    "80bce6f8-f3a7-4e71-8221-b281f176949d": {
     "id": "80bce6f8-f3a7-4e71-8221-b281f176949d",
     "prev": "e1dc78d7-f0d1-42f2-be1e-c3e6dd93c92b",
     "regions": {
      "9c2e6916-cc56-4184-9047-427b524ca98a": {
       "attrs": {
        "height": 0.8,
        "width": 0.8,
        "x": 0.1,
        "y": 0.1
       },
       "content": {
        "cell": "f8951418-f8da-4769-ae70-909f40b43111",
        "part": "whole"
       },
       "id": "9c2e6916-cc56-4184-9047-427b524ca98a"
      }
     }
    },
    "88107780-06d7-441d-83f4-948f9937791d": {
     "id": "88107780-06d7-441d-83f4-948f9937791d",
     "prev": "80bce6f8-f3a7-4e71-8221-b281f176949d",
     "regions": {
      "c4a95b3f-08eb-48f8-9c9f-a8d0dd8eab89": {
       "attrs": {
        "height": 0.8,
        "width": 0.8,
        "x": 0.1,
        "y": 0.1
       },
       "content": {
        "cell": "63cf18fc-7701-40ae-b8f5-4b8e3d15824c",
        "part": "whole"
       },
       "id": "c4a95b3f-08eb-48f8-9c9f-a8d0dd8eab89"
      }
     }
    },
    "89dc9baf-31f2-44d3-8d1b-fa2cf4bd397e": {
     "id": "89dc9baf-31f2-44d3-8d1b-fa2cf4bd397e",
     "prev": "eb187b85-2db0-49cf-9c21-82f8924fcd56",
     "regions": {
      "183b1cf1-6f78-4b5f-8ebe-b42dc8a412aa": {
       "attrs": {
        "height": 0.8,
        "width": 0.8,
        "x": 0.1,
        "y": 0.1
       },
       "content": {
        "cell": "2f25b624-23e0-4fcf-bd96-d616dd6f0a7c",
        "part": "whole"
       },
       "id": "183b1cf1-6f78-4b5f-8ebe-b42dc8a412aa"
      }
     }
    },
    "b4c787f5-9407-4fd4-bb15-7a36522acf49": {
     "id": "b4c787f5-9407-4fd4-bb15-7a36522acf49",
     "prev": "ffb5f0e2-6621-4bae-9a39-d145f82992a3",
     "regions": {
      "6ee3f79c-9cc0-44e6-bdfd-68ceb8083186": {
       "attrs": {
        "height": 0.8,
        "width": 0.8,
        "x": 0.1,
        "y": 0.1
       },
       "content": {
        "cell": "2f25b624-23e0-4fcf-bd96-d616dd6f0a7c",
        "part": "whole"
       },
       "id": "6ee3f79c-9cc0-44e6-bdfd-68ceb8083186"
      }
     }
    },
    "b4fcbff3-676c-4215-b297-5da7794e48ad": {
     "id": "b4fcbff3-676c-4215-b297-5da7794e48ad",
     "prev": "ce320d7b-671b-4e5d-8d97-4898ea8a2d6b",
     "regions": {
      "f7856db3-11de-4af4-b823-992d84f52011": {
       "attrs": {
        "height": 0.8,
        "width": 0.8,
        "x": 0.1,
        "y": 0.1
       },
       "content": {
        "cell": "2ebf0a1a-2dc1-430c-be06-aa8b23d38d1b",
        "part": "whole"
       },
       "id": "f7856db3-11de-4af4-b823-992d84f52011"
      }
     }
    },
    "c1fc789d-e0d3-4bb1-8196-c94bfdfdd089": {
     "id": "c1fc789d-e0d3-4bb1-8196-c94bfdfdd089",
     "prev": "b4fcbff3-676c-4215-b297-5da7794e48ad",
     "regions": {
      "1432c4c6-1c53-4486-8852-15afa4815fc2": {
       "attrs": {
        "height": 0.8,
        "width": 0.8,
        "x": 0.1,
        "y": 0.1
       },
       "content": {
        "cell": "791a747f-37d2-4cc7-8cec-bead0e374f74",
        "part": "whole"
       },
       "id": "1432c4c6-1c53-4486-8852-15afa4815fc2"
      }
     }
    },
    "c724f9f6-9eb6-4812-b20c-bb5cfb29dbe8": {
     "id": "c724f9f6-9eb6-4812-b20c-bb5cfb29dbe8",
     "prev": "0ab2fe6a-48cc-4c5f-ac14-8f8cc05cc0ec",
     "regions": {
      "863a5835-7078-46d9-ada6-47145eb4eea9": {
       "attrs": {
        "height": 0.8,
        "width": 0.8,
        "x": 0.1,
        "y": 0.1
       },
       "content": {
        "cell": "acd5104d-1227-41b7-86ed-3a965a1425af",
        "part": "whole"
       },
       "id": "863a5835-7078-46d9-ada6-47145eb4eea9"
      }
     }
    },
    "ce320d7b-671b-4e5d-8d97-4898ea8a2d6b": {
     "id": "ce320d7b-671b-4e5d-8d97-4898ea8a2d6b",
     "prev": "7cd7fac3-7608-482b-950f-f90106dfd2c8",
     "regions": {
      "7df3a1db-ff3b-4c95-9e8e-490999e734f5": {
       "attrs": {
        "height": 0.8,
        "width": 0.8,
        "x": 0.1,
        "y": 0.1
       },
       "content": {
        "cell": "d08a8f32-5ebe-4b76-a3f6-83b9d2a265c9",
        "part": "whole"
       },
       "id": "7df3a1db-ff3b-4c95-9e8e-490999e734f5"
      }
     }
    },
    "e1dc78d7-f0d1-42f2-be1e-c3e6dd93c92b": {
     "id": "e1dc78d7-f0d1-42f2-be1e-c3e6dd93c92b",
     "prev": "2d13249d-22e1-4ad1-a5fa-a9e6ad1c3395",
     "regions": {
      "2652aec3-4397-487e-b150-c8c92790a484": {
       "attrs": {
        "height": 0.8,
        "width": 0.8,
        "x": 0.1,
        "y": 0.1
       },
       "content": {
        "cell": "34073e2e-75e0-47b0-a7c0-2cb412437075",
        "part": "whole"
       },
       "id": "2652aec3-4397-487e-b150-c8c92790a484"
      }
     }
    },
    "eb187b85-2db0-49cf-9c21-82f8924fcd56": {
     "id": "eb187b85-2db0-49cf-9c21-82f8924fcd56",
     "prev": null,
     "regions": {
      "a7eac777-14b2-474b-8e6f-71e3eede7c90": {
       "attrs": {
        "height": 0.8,
        "width": 0.8,
        "x": 0.1,
        "y": 0.1
       },
       "content": {
        "cell": "cc0fa50f-6e40-4ae2-8bec-80fd533edc27",
        "part": "whole"
       },
       "id": "a7eac777-14b2-474b-8e6f-71e3eede7c90"
      }
     }
    },
    "ffb5f0e2-6621-4bae-9a39-d145f82992a3": {
     "id": "ffb5f0e2-6621-4bae-9a39-d145f82992a3",
     "prev": null,
     "regions": {
      "daa42143-1b1b-40bf-bc55-e62588e448ed": {
       "attrs": {
        "height": 0.8,
        "width": 0.8,
        "x": 0.1,
        "y": 0.1
       },
       "content": {
        "cell": "cc0fa50f-6e40-4ae2-8bec-80fd533edc27",
        "part": "whole"
       },
       "id": "daa42143-1b1b-40bf-bc55-e62588e448ed"
      }
     }
    }
   },
   "themes": {}
  }
 },
 "nbformat": 4,
 "nbformat_minor": 4
}
