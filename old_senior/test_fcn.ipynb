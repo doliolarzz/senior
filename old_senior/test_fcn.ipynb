{
 "cells": [
  {
   "cell_type": "code",
   "execution_count": 6,
   "metadata": {},
   "outputs": [],
   "source": [
    "import sys, os, glob\n",
    "sys.path.insert(0, '../')\n",
    "import torch\n",
    "from models.fcn import FCN8s\n",
    "import numpy as np\n",
    "from global_config import global_config"
   ]
  },
  {
   "cell_type": "code",
   "execution_count": 3,
   "metadata": {},
   "outputs": [],
   "source": [
    "test_data = torch.tensor(np.random.rand(3, 5, 120, 120)).float()\n",
    "model = FCN8s(n_class=10, n_channel=5)\n",
    "score = model(test_data)"
   ]
  },
  {
   "cell_type": "code",
   "execution_count": 5,
   "metadata": {},
   "outputs": [
    {
     "data": {
      "text/plain": [
       "(3, 10, 120, 120)"
      ]
     },
     "execution_count": 5,
     "metadata": {},
     "output_type": "execute_result"
    }
   ],
   "source": [
    "score.detach().cpu().numpy().shape"
   ]
  },
  {
   "cell_type": "code",
   "execution_count": 2,
   "metadata": {},
   "outputs": [],
   "source": [
    "x = np.random.rand(3, 5, 120, 120)"
   ]
  },
  {
   "cell_type": "code",
   "execution_count": 5,
   "metadata": {},
   "outputs": [
    {
     "data": {
      "text/plain": [
       "(3, 5, 120, 120)"
      ]
     },
     "execution_count": 5,
     "metadata": {},
     "output_type": "execute_result"
    }
   ],
   "source": [
    "np.searchsorted(global_config['LEVEL_BUCKET'], x, side='right').shape"
   ]
  },
  {
   "cell_type": "code",
   "execution_count": 20,
   "metadata": {},
   "outputs": [
    {
     "name": "stdout",
     "output_type": "stream",
     "text": [
      "['2', '18', '4', 'True', '02', '16', '17', '12']\n",
      "['5', '1', '4', 'True', '02', '17', '11', '35']\n",
      "['2', '1', '4', 'False', '02', '16', '15', '33']\n",
      "['5', '1', '4', 'False', '02', '17', '13', '43']\n",
      "['2', '1', '4', 'True', '02', '16', '14', '19']\n",
      "['5', '18', '4', 'False', '02', '18', '02', '14']\n",
      "['2', '18', '4', 'False', '02', '17', '02', '44']\n",
      "['5', '18', '4', 'True', '02', '17', '15', '49']\n"
     ]
    }
   ],
   "source": [
    "for f in glob.glob('/home/warit/senior/experiments/conv_logs/logs_*'):\n",
    "    model_path = f + '/model_f1_i5000.pth'\n",
    "    print(f.split('/')[-1].split('_')[1:])"
   ]
  },
  {
   "cell_type": "code",
   "execution_count": 16,
   "metadata": {},
   "outputs": [
    {
     "name": "stdout",
     "output_type": "stream",
     "text": [
      "2020-02-19 00:34:40.310130: W tensorflow/stream_executor/platform/default/dso_loader.cc:55] Could not load dynamic library 'libnvinfer.so.6'; dlerror: libnvinfer.so.6: cannot open shared object file: No such file or directory\n",
      "2020-02-19 00:34:40.310188: W tensorflow/stream_executor/platform/default/dso_loader.cc:55] Could not load dynamic library 'libnvinfer_plugin.so.6'; dlerror: libnvinfer_plugin.so.6: cannot open shared object file: No such file or directory\n",
      "2020-02-19 00:34:40.310193: W tensorflow/compiler/tf2tensorrt/utils/py_utils.cc:30] Cannot dlopen some TensorRT libraries. If you would like to use Nvidia GPU with TensorRT, please make sure the missing libraries mentioned above are installed properly.\n",
      "TensorBoard 2.1.0 at http://0.0.0.0:6006/ (Press CTRL+C to quit)\n",
      "^C\n"
     ]
    }
   ],
   "source": [
    "!tensorboard --logdir='/home/warit/senior/experiments/conv_logs/logs_2_1_4_False_02_16_15_33' --host=0.0.0.0"
   ]
  },
  {
   "cell_type": "code",
   "execution_count": null,
   "metadata": {},
   "outputs": [],
   "source": []
  }
 ],
 "metadata": {
  "kernelspec": {
   "display_name": "Python 3",
   "language": "python",
   "name": "python3"
  },
  "language_info": {
   "codemirror_mode": {
    "name": "ipython",
    "version": 3
   },
   "file_extension": ".py",
   "mimetype": "text/x-python",
   "name": "python",
   "nbconvert_exporter": "python",
   "pygments_lexer": "ipython3",
   "version": "3.7.5"
  }
 },
 "nbformat": 4,
 "nbformat_minor": 2
}
